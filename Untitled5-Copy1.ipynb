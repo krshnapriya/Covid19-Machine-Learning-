{
 "cells": [
  {
   "cell_type": "code",
   "execution_count": null,
   "id": "5a6b79cd",
   "metadata": {},
   "outputs": [],
   "source": [
    "import plotly.express as px\n",
    "import plotly.graph_objects as go\n",
    "import plotly.figure_factory as ff\n",
    "from plotly.subplots import make_subplots\n",
    "import requests\n",
    "import io\n",
    "import folium\n",
    "import pandas as pd\n",
    "import numpy as np\n",
    "import matplotlib.pyplot as plt\n",
    "import seaborn as sns\n",
    "\n",
    "get_ipython().run_line_magic('matplotlib', 'inline')\n",
    "\n",
    "import math\n",
    "import random\n",
    "from datetime import timedelta\n",
    "\n",
    "import warnings \n",
    "warnings.filterwarnings('ignore')\n",
    "#color pallette\n",
    "cnf = '#393e46'\n",
    "dth = '#ff2e63'\n",
    "rec = '#21bf73'\n",
    "act = '#fe9801'\n",
    "%matplotlib inline\n",
    "import seaborn as sns\n",
    "import plotly.express as px\n",
    "import plotly.graph_objects as go\n",
    "from folium import plugins\n",
    "plt.rcParams['figure.figsize'] = 10, 12\n",
    "import warnings\n",
    "warnings.filterwarnings('ignore')"
   ]
  },
  {
   "cell_type": "code",
   "execution_count": null,
   "id": "95c6912c",
   "metadata": {},
   "outputs": [],
   "source": [
    "import os\n",
    "try:\n",
    "    os.system(\"rm -rf Covid-19-Preprocessed-Dataset\")\n",
    "except:\n",
    "    print(\"File doesnot exsist\")"
   ]
  },
  {
   "cell_type": "code",
   "execution_count": null,
   "id": "25aee9cc",
   "metadata": {},
   "outputs": [],
   "source": [
    "df = pd.read_csv('.\\Covid-19-Preprocessed-Dataset\\Sample Datasets\\covid_19_data_cleaned.csv', parse_dates=['Date'])\n",
    "country_daywise = pd.read_csv('.\\Covid-19-Preprocessed-Dataset\\Sample Datasets\\country_daywise.csv', parse_dates=['Date'])\n",
    "countrywise = pd.read_csv('.\\Covid-19-Preprocessed-Dataset\\Sample Datasets\\countrywise.csv')\n",
    "daywise = pd.read_csv('.\\Covid-19-Preprocessed-Dataset\\Sample Datasets\\daywise.csv', parse_dates=['Date'])\n",
    "\n",
    "\n",
    "\n",
    "\n",
    "df['Province/State'] = df['Province/State'].fillna(\"\")\n",
    "df.head()\n"
   ]
  },
  {
   "cell_type": "code",
   "execution_count": null,
   "id": "bde90ab8",
   "metadata": {},
   "outputs": [],
   "source": [
    "\n",
    "confirmed = df.groupby('Date').sum()['Confirmed'].reset_index()\n",
    "recovered = df.groupby('Date').sum()['Recovered'].reset_index()\n",
    "deaths = df.groupby('Date').sum()['Deaths'].reset_index()\n",
    "deaths.head()\n"
   ]
  },
  {
   "cell_type": "code",
   "execution_count": null,
   "id": "57aeb03b",
   "metadata": {},
   "outputs": [],
   "source": [
    "fig = go.Figure()\n",
    "fig.add_trace(go.Scatter(x = confirmed['Date'], y=confirmed['Confirmed'], mode = 'lines+markers', name = 'Confirmed', line = dict(color = \"Orange\", width = 4)))\n",
    "fig.add_trace(go.Scatter(x = recovered['Date'], y=recovered['Recovered'], mode = 'lines+markers', name = 'Recovered', line = dict(color = \"Green\", width = 4)))\n",
    "fig.add_trace(go.Scatter(x = deaths['Date'], y=deaths['Deaths'], mode = 'lines+markers', name = 'Deaths', line = dict(color = \"Red\", width = 4)))\n",
    "fig.update_layout(title = 'Worldwide Covid-19 Cases', xaxis_tickfont_size = 14, yaxis=dict(title = 'No of cases'))\n",
    "fig.show()\n"
   ]
  },
  {
   "cell_type": "code",
   "execution_count": null,
   "id": "a8f9c62e",
   "metadata": {},
   "outputs": [],
   "source": [
    "df['Date'] = df['Date'].astype(str)\n",
    "df.info()\n"
   ]
  },
  {
   "cell_type": "code",
   "execution_count": null,
   "id": "7beea773",
   "metadata": {},
   "outputs": [],
   "source": [
    "fig = px.density_mapbox(df, lat = 'Lat', lon = 'Long', hover_name = 'Country', hover_data = ['Confirmed' ,'Recovered', 'Deaths'], animation_frame='Date', color_continuous_scale='Portland', radius = 7,zoom = 0,height = 700)\n",
    "fig.update_layout(title = 'Worldwide Covid-19 cases with timelapse')\n",
    "fig.update_layout(mapbox_style = 'open-street-map', mapbox_center_lon = 0)\n",
    "fig.show()"
   ]
  },
  {
   "cell_type": "code",
   "execution_count": null,
   "id": "bb58c3f3",
   "metadata": {},
   "outputs": [],
   "source": [
    "temp =df.groupby('Date')['Confirmed', 'Deaths', 'Recovered', 'Active'].sum().reset_index()\n",
    "temp = temp[temp['Date']==max(temp['Date'])].reset_index(drop = True)\n",
    "tm = temp.melt(id_vars = 'Date' , value_vars = ['Active', 'Deaths', 'Recovered'])\n",
    "fig = px.treemap(tm, path = ['variable'], values = 'value', height = 250, width = 800,color_discrete_sequence=[act,rec,dth])\n",
    "\n",
    "fig.data[0].textinfo = 'label+text+value'\n",
    "fig.show()\n"
   ]
  },
  {
   "cell_type": "code",
   "execution_count": null,
   "id": "ad5723e8",
   "metadata": {},
   "outputs": [],
   "source": [
    "temp = df.groupby('Date')['Recovered', 'Deaths', 'Active'].sum().reset_index()\n",
    "temp = temp.melt(id_vars = 'Date', value_vars = ['Recovered', 'Deaths','Active'], var_name = 'Case',value_name = 'Count')\n",
    "fig = px.area(temp, x = 'Date', y = 'Count', color = 'Case', height = 600, title = 'Cases over time',color_discrete_sequence=[rec, dth, act])\n",
    "fig.update_layout(xaxis_rangeslider_visible=True)\n",
    "fig.show()"
   ]
  },
  {
   "cell_type": "code",
   "execution_count": null,
   "id": "8a717b7d",
   "metadata": {},
   "outputs": [],
   "source": [
    "fig = px.choropleth(country_daywise,locations = 'Country',locationmode = 'country names',color = country_daywise['Confirmed'],\n",
    "                    hover_name = 'Country',animation_frame = country_daywise['Date'].dt.strftime('%Y-%m-%d'),\n",
    "                    title = 'Cases over time',color_continuous_scale = px.colors.sequential.Inferno)\n",
    "fig.update(layout_coloraxis_showscale = True)\n",
    "fig.show()"
   ]
  },
  {
   "cell_type": "code",
   "execution_count": null,
   "id": "82b4ddc6",
   "metadata": {},
   "outputs": [],
   "source": [
    "fig_c = px.bar(daywise , x = 'Date' , y = 'Confirmed' , color_discrete_sequence=[act])\n",
    "fig_d = px.bar(daywise , x = 'Date' , y = 'Deaths' , color_discrete_sequence=['aqua'])\n",
    "\n",
    "fig = make_subplots(rows = 1,cols = 2, shared_xaxes=False, horizontal_spacing=0.1,\n",
    "                   subplot_titles=(\"Confirmed Cases\" , \"Death Cases\"))\n",
    "fig.add_trace(fig_c['data'][0], row = 1, col = 1)\n",
    "fig.add_trace(fig_c['data'][0], row = 1, col = 2)\n",
    "fig.update_layout(height = 400)\n",
    "fig.show()"
   ]
  },
  {
   "cell_type": "code",
   "execution_count": null,
   "id": "11cfe897",
   "metadata": {},
   "outputs": [],
   "source": [
    "fig_c = px.choropleth(countrywise,locations='Country',locationmode='country names',\n",
    "                     color = np.log(countrywise['Confirmed']),hover_name='Country',\n",
    "                     hover_data = ['Confirmed'])\n",
    "temp = countrywise[countrywise['Deaths']>0]\n",
    "fig_d = px.choropleth(temp,locations='Country',locationmode='country names',\n",
    "                     color = np.log(temp['Deaths']),hover_name='Country',\n",
    "                     hover_data = ['Deaths'])\n",
    "fig = make_subplots(rows = 1,cols = 2,subplot_titles = ['Confirmed','Deaths'],\n",
    "                    specs =[[{'type':'choropleth'},{'type':'choropleth'}]])\n",
    "\n",
    "fig.add_trace(fig_c['data'][0],row = 1, col = 1)\n",
    "fig.add_trace(fig_d['data'][0],row = 1, col = 2)\n",
    "fig.show()\n",
    "                  "
   ]
  },
  {
   "cell_type": "code",
   "execution_count": null,
   "id": "f139b5f7",
   "metadata": {},
   "outputs": [],
   "source": [
    "fig1 = px.line(daywise, x ='Date', y = 'Deaths / 100 Cases',color_discrete_sequence=[dth])\n",
    "fig2 = px.line(daywise, x ='Date', y = 'Recovered / 100 Cases',color_discrete_sequence=[rec])\n",
    "fig3 = px.line(daywise, x ='Date', y = 'Deaths / 100 Recovered',color_discrete_sequence=['aqua'])\n",
    "\n",
    "fig = make_subplots(rows = 1,cols = 3, shared_xaxes= False,\n",
    "                   subplot_titles=('Deaths / 100 Cases','Recovered / 100 Cases','Deaths / 100 Recovered'))\n",
    "fig.add_trace(fig1['data'][0],row = 1, col = 1)\n",
    "fig.add_trace(fig2['data'][0],row = 1, col = 2)\n",
    "fig.add_trace(fig3['data'][0],row = 1, col = 3)\n",
    "\n",
    "fig.update_layout(height = 400)\n",
    "fig.show()"
   ]
  },
  {
   "cell_type": "code",
   "execution_count": null,
   "id": "3a59be6f",
   "metadata": {},
   "outputs": [],
   "source": [
    "fig_c = px.bar(daywise, x= 'Date', y = 'Confirmed', color_discrete_sequence=[cnf])\n",
    "fig_d = px.bar(daywise, x= 'Date', y = 'No. of Countries', color_discrete_sequence=[dth])\n",
    "\n",
    "fig = make_subplots(rows = 1,cols = 3, shared_xaxes= False,horizontal_spacing=0.1,\n",
    "                    subplot_titles=(\"No, of New Cases per Day\",\"No. of Countries\"))\n",
    "fig.add_trace(fig_c['data'][0], row = 1,col = 1)\n",
    "fig.add_trace(fig_d['data'][0], row = 1,col = 2)\n",
    "\n",
    "fig.show()\n"
   ]
  },
  {
   "cell_type": "code",
   "execution_count": null,
   "id": "cac22993",
   "metadata": {},
   "outputs": [],
   "source": [
    "top = 15\n",
    "fig_c = px.bar(countrywise.sort_values('Confirmed').tail(top),x='Confirmed',y='Country',\n",
    "              text = 'Confirmed',orientation='h',color_discrete_sequence=[cnf])\n",
    "fig_d = px.bar(countrywise.sort_values('Deaths').tail(top),x='Deaths',y='Country',\n",
    "              text = 'Deaths',orientation='h',color_discrete_sequence=[dth])\n",
    "\n",
    "fig_a = px.bar(countrywise.sort_values('Active').tail(top),x='Active',y='Country',\n",
    "              text = 'Active',orientation='h',color_discrete_sequence=[act])\n",
    "fig_r = px.bar(countrywise.sort_values('Recovered').tail(top),x='Recovered',y='Country',\n",
    "              text = 'Recovered',orientation='h',color_discrete_sequence=[rec])\n",
    "fig_dc = px.bar(countrywise.sort_values('Deaths / 100 Cases').tail(top),x='Deaths / 100 Cases',y='Country',\n",
    "              text = 'Deaths / 100 Cases',orientation='h',color_discrete_sequence=['#f84351'])\n",
    "fig_rc = px.bar(countrywise.sort_values('Recovered / 100 Cases').tail(top),x='Recovered / 100 Cases',y='Country',\n",
    "              text = 'Recovered / 100 Cases',orientation='h',color_discrete_sequence=['#a45398'])\n",
    "\n",
    "\n",
    "\n",
    "\n",
    "fig = make_subplots(rows = 5,cols = 2, shared_xaxes= False,horizontal_spacing=0.2,\n",
    "                    vertical_spacing=0.05,\n",
    "                    subplot_titles=('Confirmed Cases','Deaths Reported','Active Cases','Recovered Cases','Deaths / 100 Cases','Recovered / 100 Cases'))\n",
    "\n",
    "fig.add_trace(fig_c['data'][0], row = 1,col = 1)\n",
    "fig.add_trace(fig_d['data'][0], row = 1,col = 2)\n",
    "fig.add_trace(fig_a['data'][0], row = 2,col = 1)\n",
    "fig.add_trace(fig_r['data'][0], row = 2,col = 2)\n",
    "fig.add_trace(fig_dc['data'][0], row = 3,col = 1)\n",
    "fig.add_trace(fig_rc['data'][0], row = 3,col = 2)\n",
    "fig.update_layout(height=4000)\n",
    "\n",
    "fig.show()\n",
    "\n"
   ]
  },
  {
   "cell_type": "code",
   "execution_count": null,
   "id": "a4ce6e31",
   "metadata": {},
   "outputs": [],
   "source": [
    "url=\"http://covidtracking.com/api/states/daily.csv\"\n",
    "s=requests.get(url).content"
   ]
  },
  {
   "cell_type": "code",
   "execution_count": null,
   "id": "33152373",
   "metadata": {},
   "outputs": [],
   "source": [
    "df = pd.read_csv(io.StringIO(s.decode('utf-8')))\n",
    "df['date'] =  pd.to_datetime(df['date'], format='%Y%m%d')\n",
    "df.drop(['dateChecked'],axis=1,inplace=True)\n",
    "df['state']=df['state'].apply(str)"
   ]
  },
  {
   "cell_type": "code",
   "execution_count": null,
   "id": "3812ac43",
   "metadata": {},
   "outputs": [],
   "source": []
  },
  {
   "cell_type": "code",
   "execution_count": null,
   "id": "8dd1e807",
   "metadata": {},
   "outputs": [],
   "source": [
    "def plot_var(var='positiveIncrease',\n",
    "             state='IN'):\n",
    "    \"\"\"\n",
    "    Plots a bar chart of the given variable over the date range\n",
    "    \"\"\"\n",
    "    assert type(var)==str, \"Expected string as the variable name\"\n",
    "    assert type(state)==str, \"Expected string as the state name\"\n",
    " \n",
    "    y = df[df['state']==state][var]\n",
    "    x = df[df['state']==state]['date']\n",
    "    plt.figure(figsize=(12,4))\n",
    "    plt.title(\"Plot of \\\"{}\\\" for {}\".format(var,state),fontsize=18)\n",
    "    plt.bar(x=x,height=y,edgecolor='k',color='orange')\n",
    "    plt.grid(True)\n",
    "    plt.xticks(fontsize=14,rotation=45)\n",
    "    plt.yticks(fontsize=14)\n",
    "    plt.show()"
   ]
  },
  {
   "cell_type": "code",
   "execution_count": null,
   "id": "8eac708b",
   "metadata": {},
   "outputs": [],
   "source": [
    "plot_var()"
   ]
  },
  {
   "cell_type": "code",
   "execution_count": null,
   "id": "17dbc959",
   "metadata": {},
   "outputs": [],
   "source": [
    "plot_var('hospitalizedIncrease','IN')"
   ]
  },
  {
   "cell_type": "code",
   "execution_count": null,
   "id": "9d7371a8",
   "metadata": {},
   "outputs": [],
   "source": [
    "plot_var('totalTestResultsIncrease','IN')"
   ]
  },
  {
   "cell_type": "code",
   "execution_count": null,
   "id": "39b27a37",
   "metadata": {},
   "outputs": [],
   "source": [
    "def plotTesting(lst_states=['IN','CA','NY','TX','PA']):\n",
    "    \"\"\"\n",
    "    Plots the cumulative testing done by the given list of states\n",
    "    \"\"\"\n",
    "    legends = []\n",
    "    plt.figure(figsize=(10,5))\n",
    "    plt.title(\"Total test results\",fontsize=18)\n",
    "    for s in lst_states:\n",
    "        data = np.array(df[df['state']==s]['totalTestResults'])[-1::-1]\n",
    "        slope = int((data[-1]-data[0])/len(data))\n",
    "        plt.plot(data,linewidth=2)\n",
    "        plt.text(x=len(data)-2,y=data[-1]*1.05,s=s,fontsize=14)\n",
    "        legends.append(str(slope)+\" tests/day in \" + s)\n",
    "    plt.legend(legends,fontsize=14)\n",
    "    plt.grid(True)\n",
    "    plt.xlim(0,len(data)+2)\n",
    "    plt.xticks(fontsize=16)\n",
    "    plt.yticks(fontsize=16)\n",
    "    plt.xlabel(\"Days\",fontsize=16)\n",
    "    plt.ylabel(\"Total test results\",fontsize=16)\n",
    "    plt.show()    "
   ]
  },
  {
   "cell_type": "code",
   "execution_count": null,
   "id": "d7a65d99",
   "metadata": {},
   "outputs": [],
   "source": [
    "plotTesting()"
   ]
  },
  {
   "cell_type": "code",
   "execution_count": null,
   "id": "c472e828",
   "metadata": {},
   "outputs": [],
   "source": [
    "def caseCountsdecrease(days=14,state='NY'):\n",
    "  \n",
    "    positiveIncrease = np.array(df[df['state']==state]['positiveIncrease'][:days+1])[-1::-1]\n",
    "    diff = np.diff(positiveIncrease)\n",
    "    countofNeg = np.sum(diff <= 0, axis=0)\n",
    "    return (countofNeg, diff)"
   ]
  },
  {
   "cell_type": "code",
   "execution_count": null,
   "id": "5f85a748",
   "metadata": {},
   "outputs": [],
   "source": [
    "states = ['NY','IN','GA','LA']\n",
    "cd = []\n",
    "x = np.arange(1,15,1)\n",
    "plt.figure(figsize=(10,6))\n",
    "plt.title(\"Last 14 days successive difference in new positive cases \\n(more negative numbers is better)\",\n",
    "          fontsize=18)\n",
    "for s in states:\n",
    "    _,data = caseCountsdecrease(days=14,state=s)\n",
    "    plt.plot(x,data,linewidth=2)\n",
    "plt.legend(states,fontsize=16,ncol=2)\n",
    "plt.grid(True)\n",
    "plt.xticks(fontsize=16)\n",
    "plt.yticks(fontsize=16)\n",
    "plt.xlabel(\"Last 14 days\",fontsize=16)\n",
    "plt.ylabel(\"Successive difference in new cases\",fontsize=16)\n",
    "plt.hlines(y=0,xmin=0,xmax=15,linestyles='--',lw=3)\n",
    "plt.show()"
   ]
  },
  {
   "cell_type": "code",
   "execution_count": null,
   "id": "0b5fe4c9",
   "metadata": {},
   "outputs": [],
   "source": [
    "states = ['IN']\n",
    "cd = []\n",
    "x = np.arange(1,15,1)\n",
    "plt.figure(figsize=(10,6))\n",
    "plt.title(\"Last 14 days successive difference in new positive cases \\n(more negative numbers is better)\",\n",
    "          fontsize=18)\n",
    "for s in states:\n",
    "    _,data = caseCountsdecrease(days=14,state=s)\n",
    "    plt.plot(x,data,linewidth=2)\n",
    "plt.legend(states,fontsize=16,ncol=2)\n",
    "plt.grid(True)\n",
    "plt.xticks(fontsize=16)\n",
    "plt.yticks(fontsize=16)\n",
    "plt.xlabel(\"Last 14 days\",fontsize=16)\n",
    "plt.ylabel(\"Successive difference in new cases\",fontsize=16)\n",
    "plt.hlines(y=0,xmin=0,xmax=15,linestyles='--',lw=3)\n",
    "plt.show()"
   ]
  },
  {
   "cell_type": "code",
   "execution_count": null,
   "id": "d73fe2b7",
   "metadata": {},
   "outputs": [],
   "source": [
    "df= pd.read_excel('Desktop\\mini projects\\COVID-19-Time-Series-Forecasting-with-Data-Analysis-master\\COVID-19-Time-Series-Forecasting-with-Data-Analysis-master\\Covid cases in India.xlsx')\n",
    "df"
   ]
  },
  {
   "cell_type": "code",
   "execution_count": null,
   "id": "b270b4ff",
   "metadata": {},
   "outputs": [],
   "source": [
    "India_coord = pd.read_excel('/Users\\sharm\\Desktop\\mini projects\\COVID-19-Time-Series-Forecasting-with-Data-Analysis-master\\COVID-19-Time-Series-Forecasting-with-Data-Analysis-master/Indian Coordinates.xlsx')\n",
    "dbd_India = pd.read_excel('/Users\\sharm\\Desktop\\mini projects\\COVID-19-Time-Series-Forecasting-with-Data-Analysis-master\\COVID-19-Time-Series-Forecasting-with-Data-Analysis-master/per_day_cases.xlsx',parse_dates=True, sheet_name='India')"
   ]
  },
  {
   "cell_type": "code",
   "execution_count": null,
   "id": "6db0f245",
   "metadata": {},
   "outputs": [],
   "source": [
    "df.style.background_gradient(cmap='Reds')"
   ]
  },
  {
   "cell_type": "code",
   "execution_count": null,
   "id": "1dcebfad",
   "metadata": {},
   "outputs": [],
   "source": [
    "df.drop(['S. No.'],axis=1,inplace=True)\n",
    "df['Total cases']=df['Total Confirmed cases (Indian National)']+df['Total Confirmed cases ( Foreign National )']\n",
    "total_cases=df['Total cases'].sum()\n",
    "print('The total number of cases till now in India is',total_cases)"
   ]
  },
  {
   "cell_type": "code",
   "execution_count": null,
   "id": "5a159234",
   "metadata": {},
   "outputs": [],
   "source": [
    "df['Total Active'] = df['Total cases'] - (df['Death'] + df['Cured'])\n",
    "total_active = df['Total Active'].sum()\n",
    "print('Total number of active COVID 2019 cases across India:', total_active)\n",
    "Tot_Cases = df.groupby('Name of State / UT')['Total Active'].sum().sort_values(ascending=False).to_frame()\n",
    "Tot_Cases.style.background_gradient(cmap='Reds')"
   ]
  },
  {
   "cell_type": "code",
   "execution_count": null,
   "id": "1a8ebd58",
   "metadata": {},
   "outputs": [],
   "source": [
    "df_full = pd.merge(India_coord,df,on='Name of State / UT')\n",
    "map = folium.Map(location=[20, 70], zoom_start=4,tiles='Stamenterrain')\n",
    "\n",
    "for lat, lon, value, name in zip(df_full['Latitude'], df_full['Longitude'], df_full['Total cases'], df_full['Name of State / UT']):\n",
    "    folium.CircleMarker([lat, lon], radius=value*0.8, popup = ('<strong>State</strong>: ' + str(name).capitalize() + '<br>''<strong>Total Cases</strong>: ' + str(value) + '<br>'),color='red',fill_color='red',fill_opacity=0.3 ).add_to(map)\n",
    "map\n"
   ]
  },
  {
   "cell_type": "code",
   "execution_count": null,
   "id": "8f83eae7",
   "metadata": {},
   "outputs": [],
   "source": [
    "sns.heatmap(daywise.corr(), cmap=\"YlGnBu\", annot = True)\n",
    "plt.show()"
   ]
  },
  {
   "cell_type": "code",
   "execution_count": null,
   "id": "f81d3d7b",
   "metadata": {},
   "outputs": [],
   "source": [
    "df.rename(columns={'ObservationDate': 'Date',\n",
    "                          'Country/Region': 'Country'}, inplace=True)\n"
   ]
  },
  {
   "cell_type": "code",
   "execution_count": null,
   "id": "f3b38f4f",
   "metadata": {},
   "outputs": [],
   "source": [
    "df = df.groupby([\"Date\", \"Country\"])[\n",
    "    ['Date', 'Country', 'Confirmed', 'Deaths', 'Recovered']].sum().reset_index()\n",
    "corona_sorted_df = df.sort_values('Date', ascending=False)\n",
    "corona_sorted_df = corona_sorted_df.drop_duplicates('Country')"
   ]
  },
  {
   "cell_type": "code",
   "execution_count": null,
   "id": "828bec6f",
   "metadata": {},
   "outputs": [],
   "source": [
    "corona_confirmed_total_df = corona_sorted_df['Confirmed'].sum()\n",
    "corona_deaths_total_df = corona_sorted_df['Deaths'].sum()\n",
    "corona_recovered_total_df = corona_sorted_df['Recovered'].sum()\n",
    "\n",
    "corona_confirmed_total_df = round(corona_confirmed_total_df, 2)\n",
    "corona_deaths_total_df = round(corona_deaths_total_df, 2)\n",
    "corona_recovered_total_df = round(corona_recovered_total_df, 2)\n",
    "\n",
    "corona_dict = {'Total Confirmed cases  in the world': corona_confirmed_total_df,\n",
    "               'Total Deaths cases in the world': corona_deaths_total_df, 'Total Recovered cases in the world': corona_recovered_total_df}\n",
    "corona_dict = pd.DataFrame.from_dict(\n",
    "    corona_dict, orient='index', columns=['Total'])\n",
    "\n",
    "corona_dict.style.background_gradient(cmap='Blues')"
   ]
  },
  {
   "cell_type": "code",
   "execution_count": null,
   "id": "859fea14",
   "metadata": {},
   "outputs": [],
   "source": [
    "corona_dict = corona_dict.head(3)\n",
    "x = corona_dict.index\n",
    "y = corona_dict['Total'].values\n",
    "\n",
    "plt.rcParams['figure.figsize'] = (10, 6)\n",
    "plt.bar(x, y, color=['blue', 'red', 'green'])\n",
    "plt.title('Total Confirmed / Deaths / Recovered cases worldwide(until 04/14)')\n",
    "plt.show()"
   ]
  },
  {
   "cell_type": "code",
   "execution_count": null,
   "id": "f2e883ac",
   "metadata": {},
   "outputs": [],
   "source": [
    "sorted_By_Confirmed1 = corona_sorted_df.sort_values(\n",
    "    'Confirmed', ascending=False)\n",
    "sorted_By_Confirmed1 = sorted_By_Confirmed1.head(10)\n",
    "x = sorted_By_Confirmed1.Country\n",
    "y = sorted_By_Confirmed1.Confirmed\n",
    "plt.rcParams['figure.figsize'] = (12, 10)\n",
    "plt.bar(x, y, color=(0.2, 0.4, 0.6, 0.6))\n",
    "plt.title('Top 10 infected countries(until 04/14)')\n",
    "plt.show()"
   ]
  },
  {
   "cell_type": "code",
   "execution_count": null,
   "id": "534fd8d0",
   "metadata": {},
   "outputs": [],
   "source": [
    "corona_cases_per_day = df.groupby(\n",
    "    [\"Date\"])['Confirmed', 'Deaths', 'Recovered'].sum().reset_index()\n",
    "sorted_By_Confirmed1 = corona_cases_per_day.sort_values(\n",
    "    'Date', ascending=False)\n",
    "\n",
    "sorted_By_Confirmed1.style.background_gradient(cmap='Reds')"
   ]
  },
  {
   "cell_type": "code",
   "execution_count": null,
   "id": "6226d614",
   "metadata": {},
   "outputs": [],
   "source": [
    "x = corona_cases_per_day.Date\n",
    "y = corona_cases_per_day.Confirmed\n",
    "y1 = corona_cases_per_day.Deaths\n",
    "y2 = corona_cases_per_day.Recovered\n",
    "ax = plt.gca()\n",
    "corona_cases_per_day.plot(kind='line', x='Date',\n",
    "                          y='Confirmed', color='blue', ax=ax)\n",
    "corona_cases_per_day.plot(kind='line', x='Date',\n",
    "                          y='Deaths', color='red', ax=ax)\n",
    "corona_cases_per_day.plot(kind='line', x='Date',\n",
    "                          y='Recovered', color='green', ax=ax)\n",
    "print(\"Blue : Confirmed Cases \")\n",
    "print(\"Red : Death Cases \")\n",
    "print(\"Green : Recovered Cases \")\n",
    "plt.ylabel('Total cases(#)')\n",
    "plt.title('Total confirmed, death and recovered case report per day.')\n",
    "plt.show()"
   ]
  },
  {
   "cell_type": "markdown",
   "id": "3432191d",
   "metadata": {},
   "source": [
    "# Linear regression"
   ]
  },
  {
   "cell_type": "code",
   "execution_count": null,
   "id": "acca5b07",
   "metadata": {},
   "outputs": [],
   "source": []
  },
  {
   "cell_type": "code",
   "execution_count": null,
   "id": "1582a3a4",
   "metadata": {},
   "outputs": [],
   "source": []
  },
  {
   "cell_type": "code",
   "execution_count": null,
   "id": "d8fc23f5",
   "metadata": {},
   "outputs": [],
   "source": []
  },
  {
   "cell_type": "code",
   "execution_count": null,
   "id": "888513b4",
   "metadata": {},
   "outputs": [],
   "source": []
  },
  {
   "cell_type": "code",
   "execution_count": null,
   "id": "cda2c4b8",
   "metadata": {},
   "outputs": [],
   "source": []
  },
  {
   "cell_type": "code",
   "execution_count": null,
   "id": "ae0d308b",
   "metadata": {},
   "outputs": [],
   "source": []
  }
 ],
 "metadata": {
  "kernelspec": {
   "display_name": "Python 3",
   "language": "python",
   "name": "python3"
  },
  "language_info": {
   "codemirror_mode": {
    "name": "ipython",
    "version": 3
   },
   "file_extension": ".py",
   "mimetype": "text/x-python",
   "name": "python",
   "nbconvert_exporter": "python",
   "pygments_lexer": "ipython3",
   "version": "3.8.8"
  }
 },
 "nbformat": 4,
 "nbformat_minor": 5
}
